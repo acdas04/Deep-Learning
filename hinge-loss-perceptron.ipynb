{
 "cells": [
  {
   "cell_type": "markdown",
   "metadata": {},
   "source": [
    "# Perceptron Loss Function\n",
    "\n",
    "The Perceptron loss function is used in machine learning for binary classification tasks. It is defined as:\n",
    "\n",
    "$$ L(y, \\hat{y}) = \\max(0, -y \\cdot \\hat{y}) $$\n",
    "\n",
    "where:\n",
    "- \\( y \\) is the true label (either -1 or 1)\n",
    "- \\( \\hat{y} \\) is the predicted label\n",
    "\n",
    "The Perceptron loss function penalizes misclassified examples. If the example is correctly classified, the loss is zero. If it is misclassified, the loss is proportional to the distance from the decision boundary.\n",
    "\n",
    "## Partial Derivatives\n",
    "\n",
    "To update the weights in the Perceptron algorithm, we need to compute the gradient of the loss function with respect to the weights. The weight update rule is given by:\n",
    "\n",
    "$$ w_{new} = w_{old} + \\eta \\cdot y \\cdot x $$\n",
    "\n",
    "where:\n",
    "- \\( \\eta \\) is the learning rate\n",
    "- \\( x \\) is the input feature vector\n",
    "\n",
    "The partial derivative of the Perceptron loss function with respect to the weights \\( w \\) is:\n",
    "\n",
    "$$ \\frac{\\partial L}{\\partial w} = \n",
    "\\begin{cases} \n",
    "0 & \\text{if } y \\cdot \\hat{y} > 0 \\\\\n",
    "-y \\cdot x & \\text{if } y \\cdot \\hat{y} \\leq 0 \n",
    "\\end{cases}\n",
    "$$\n",
    "\n",
    "This means that if the example is correctly classified, the gradient is zero, and no update is made to the weights. If the example is misclassified, the weights are updated in the direction of the input feature vector scaled by the true label and the learning rate.\n",
    "\n",
    "## Gradient Descent for Perceptron\n",
    "\n",
    "The weight update rule using gradient descent for the Perceptron loss function is:\n",
    "\n",
    "1. Compute the gradient:\n",
    "\n",
    "$$ \\frac{\\partial L}{\\partial w} = \n",
    "\\begin{cases} \n",
    "0 & \\text{if } y \\cdot \\hat{y} > 0 \\\\\n",
    "-y \\cdot x & \\text{if } y \\cdot \\hat{y} \\leq 0 \n",
    "\\end{cases}\n",
    "$$\n",
    "\n",
    "2. Update the weights:\n",
    "\n",
    "$$ w_{new} = w_{old} - \\eta \\cdot \\frac{\\partial L}{\\partial w} $$\n",
    "\n",
    "Simplified:\n",
    "\n",
    "$$ w_{new} = \n",
    "\\begin{cases} \n",
    "w_{old} & \\text{if } y \\cdot \\hat{y} > 0 \\\\\n",
    "w_{old} + \\eta \\cdot y \\cdot x & \\text{if } y \\cdot \\hat{y} \\leq 0 \n",
    "\\end{cases}\n",
    "$$\n",
    "\n",
    "Correctly classified examples leave weights unchanged; misclassified examples update weights in the direction of \\( y \\cdot x \\) scaled by the learning rate \\( \\eta \\)."
   ]
  },
  {
   "cell_type": "code",
   "execution_count": null,
   "metadata": {},
   "outputs": [],
   "source": [
    "import pandas as pd # data manipulation\n",
    "import seaborn as sns # data visualization\n",
    "import numpy as np \n",
    "import matplotlib.pyplot as plt"
   ]
  },
  {
   "cell_type": "code",
   "execution_count": 103,
   "metadata": {},
   "outputs": [
    {
     "data": {
      "text/html": [
       "<div>\n",
       "<style scoped>\n",
       "    .dataframe tbody tr th:only-of-type {\n",
       "        vertical-align: middle;\n",
       "    }\n",
       "\n",
       "    .dataframe tbody tr th {\n",
       "        vertical-align: top;\n",
       "    }\n",
       "\n",
       "    .dataframe thead th {\n",
       "        text-align: right;\n",
       "    }\n",
       "</style>\n",
       "<table border=\"1\" class=\"dataframe\">\n",
       "  <thead>\n",
       "    <tr style=\"text-align: right;\">\n",
       "      <th></th>\n",
       "      <th>cgpa</th>\n",
       "      <th>resume_score</th>\n",
       "      <th>placed</th>\n",
       "    </tr>\n",
       "  </thead>\n",
       "  <tbody>\n",
       "    <tr>\n",
       "      <th>0</th>\n",
       "      <td>8.14</td>\n",
       "      <td>6.52</td>\n",
       "      <td>1</td>\n",
       "    </tr>\n",
       "    <tr>\n",
       "      <th>1</th>\n",
       "      <td>6.17</td>\n",
       "      <td>5.17</td>\n",
       "      <td>0</td>\n",
       "    </tr>\n",
       "    <tr>\n",
       "      <th>2</th>\n",
       "      <td>8.27</td>\n",
       "      <td>8.86</td>\n",
       "      <td>1</td>\n",
       "    </tr>\n",
       "    <tr>\n",
       "      <th>3</th>\n",
       "      <td>6.88</td>\n",
       "      <td>7.27</td>\n",
       "      <td>1</td>\n",
       "    </tr>\n",
       "    <tr>\n",
       "      <th>4</th>\n",
       "      <td>7.52</td>\n",
       "      <td>7.30</td>\n",
       "      <td>1</td>\n",
       "    </tr>\n",
       "  </tbody>\n",
       "</table>\n",
       "</div>"
      ],
      "text/plain": [
       "   cgpa  resume_score  placed\n",
       "0  8.14          6.52       1\n",
       "1  6.17          5.17       0\n",
       "2  8.27          8.86       1\n",
       "3  6.88          7.27       1\n",
       "4  7.52          7.30       1"
      ]
     },
     "execution_count": 103,
     "metadata": {},
     "output_type": "execute_result"
    }
   ],
   "source": [
    "data=pd.read_csv('placement.csv')\n",
    "# data['placed'] = data['placed'].replace(0, -1)\n",
    "data.head()"
   ]
  },
  {
   "cell_type": "code",
   "execution_count": 104,
   "metadata": {},
   "outputs": [
    {
     "data": {
      "text/plain": [
       "(100, 3)"
      ]
     },
     "execution_count": 104,
     "metadata": {},
     "output_type": "execute_result"
    }
   ],
   "source": [
    "data.shape\n"
   ]
  },
  {
   "cell_type": "code",
   "execution_count": 105,
   "metadata": {},
   "outputs": [
    {
     "data": {
      "text/html": [
       "<div>\n",
       "<style scoped>\n",
       "    .dataframe tbody tr th:only-of-type {\n",
       "        vertical-align: middle;\n",
       "    }\n",
       "\n",
       "    .dataframe tbody tr th {\n",
       "        vertical-align: top;\n",
       "    }\n",
       "\n",
       "    .dataframe thead th {\n",
       "        text-align: right;\n",
       "    }\n",
       "</style>\n",
       "<table border=\"1\" class=\"dataframe\">\n",
       "  <thead>\n",
       "    <tr style=\"text-align: right;\">\n",
       "      <th></th>\n",
       "      <th>resume_score</th>\n",
       "      <th>cgpa</th>\n",
       "    </tr>\n",
       "  </thead>\n",
       "  <tbody>\n",
       "    <tr>\n",
       "      <th>0</th>\n",
       "      <td>6.52</td>\n",
       "      <td>8.14</td>\n",
       "    </tr>\n",
       "    <tr>\n",
       "      <th>1</th>\n",
       "      <td>5.17</td>\n",
       "      <td>6.17</td>\n",
       "    </tr>\n",
       "    <tr>\n",
       "      <th>2</th>\n",
       "      <td>8.86</td>\n",
       "      <td>8.27</td>\n",
       "    </tr>\n",
       "    <tr>\n",
       "      <th>3</th>\n",
       "      <td>7.27</td>\n",
       "      <td>6.88</td>\n",
       "    </tr>\n",
       "    <tr>\n",
       "      <th>4</th>\n",
       "      <td>7.30</td>\n",
       "      <td>7.52</td>\n",
       "    </tr>\n",
       "  </tbody>\n",
       "</table>\n",
       "</div>"
      ],
      "text/plain": [
       "   resume_score  cgpa\n",
       "0          6.52  8.14\n",
       "1          5.17  6.17\n",
       "2          8.86  8.27\n",
       "3          7.27  6.88\n",
       "4          7.30  7.52"
      ]
     },
     "execution_count": 105,
     "metadata": {},
     "output_type": "execute_result"
    }
   ],
   "source": [
    "y = data['placed']\n",
    "x = data[['resume_score', 'cgpa']]\n",
    "x[:5]\n"
   ]
  },
  {
   "cell_type": "code",
   "execution_count": 106,
   "metadata": {},
   "outputs": [
    {
     "data": {
      "text/plain": [
       "100"
      ]
     },
     "execution_count": 106,
     "metadata": {},
     "output_type": "execute_result"
    }
   ],
   "source": [
    "len(x.values)"
   ]
  },
  {
   "cell_type": "code",
   "execution_count": 107,
   "metadata": {},
   "outputs": [
    {
     "data": {
      "text/plain": [
       "<Axes: xlabel='cgpa', ylabel='resume_score'>"
      ]
     },
     "execution_count": 107,
     "metadata": {},
     "output_type": "execute_result"
    },
    {
     "data": {
      "image/png": "[encoded data removed]",
      "text/plain": [
       "<Figure size 640x480 with 1 Axes>"
      ]
     },
     "metadata": {},
     "output_type": "display_data"
    }
   ],
   "source": [
    "sns.scatterplot(x='cgpa',y='resume_score',data=data,hue='placed')"
   ]
  },
  {
   "cell_type": "code",
   "execution_count": 108,
   "metadata": {},
   "outputs": [],
   "source": [
    "def perceptron(x,y):\n",
    "    w1=w2=b=1\n",
    "    lr=.1\n",
    "    epochs=1000\n",
    "    for j in range(epochs):\n",
    "        for i in range(len(x)):\n",
    "            z=w1*x[i][0]+w2*x[i][1]+b\n",
    "            if z*y[i]<0 :\n",
    "                w1=w1+lr*x[i][0]*y[i]\n",
    "                w2=w2+lr*x[i][1]*y[i]\n",
    "                b=b+lr*y[i]\n",
    "            elif (y[i]==0 and z>0):\n",
    "                w1=w1+lr*x[i][0]*-1\n",
    "                w2=w2+lr*x[i][1]*-1\n",
    "                b=b+lr*-1\n",
    "\n",
    "    return w1,w2,b"
   ]
  },
  {
   "cell_type": "code",
   "execution_count": 109,
   "metadata": {},
   "outputs": [
    {
     "data": {
      "text/plain": [
       "(0.22899999999992626, 10.072000000001195, -71.10000000000024)"
      ]
     },
     "execution_count": 109,
     "metadata": {},
     "output_type": "execute_result"
    }
   ],
   "source": [
    "w1,w2,b=perceptron(x.values,y.values)\n",
    "w1,w2,b\n"
   ]
  },
  {
   "cell_type": "code",
   "execution_count": 110,
   "metadata": {},
   "outputs": [
    {
     "data": {
      "image/png": "[encoded data removed]",
      "text/plain": [
       "<Figure size 558.875x500 with 1 Axes>"
      ]
     },
     "metadata": {},
     "output_type": "display_data"
    }
   ],
   "source": [
    "# the line along with the data points\n",
    "sns.lmplot(x='resume_score', y='cgpa', data=data,hue='placed')\n",
    "plt.plot(np.linspace(0, 100, 100), -(w1 * np.linspace(0, 100, 100) + b) / w2)\n",
    "plt.show()\n"
   ]
  },
  {
   "cell_type": "code",
   "execution_count": 111,
   "metadata": {},
   "outputs": [
    {
     "data": {
      "text/plain": [
       "0.6651688999994896"
      ]
     },
     "execution_count": 111,
     "metadata": {},
     "output_type": "execute_result"
    }
   ],
   "source": [
    "def hinge_loss(x, y, w1, w2, b):\n",
    "    loss = 0\n",
    "    for i in range(len(x)):\n",
    "        z = w1 * x[i][0] + w2 * x[i][1] + b\n",
    "        loss += max(0, 1 - y[i] * z)\n",
    "    return loss / len(x)\n",
    "\n",
    "loss = hinge_loss(x.values, y.values, w1, w2, b)\n",
    "loss\n",
    "\n"
   ]
  }
 ],
 "metadata": {
  "kernelspec": {
   "display_name": "base",
   "language": "python",
   "name": "python3"
  },
  "language_info": {
   "codemirror_mode": {
    "name": "ipython",
    "version": 3
   },
   "file_extension": ".py",
   "mimetype": "text/x-python",
   "name": "python",
   "nbconvert_exporter": "python",
   "pygments_lexer": "ipython3",
   "version": "3.11.7"
  }
 },
 "nbformat": 4,
 "nbformat_minor": 2
}
