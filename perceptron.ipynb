{
 "cells": [
  {
   "cell_type": "code",
   "execution_count": 21,
   "metadata": {},
   "outputs": [
    {
     "data": {
      "text/latex": [
       "$\\displaystyle \\text{Given input features } ( x_1, x_2, \\ldots, x_n ) \\text{ and corresponding weights } ( w_1, w_2, \\ldots, w_n ), \\text{ the perceptron output } ( y ) \\text{ is calculated as follows:}$"
      ],
      "text/plain": [
       "<IPython.core.display.Math object>"
      ]
     },
     "metadata": {},
     "output_type": "display_data"
    },
    {
     "data": {
      "text/latex": [
       "$\\displaystyle \n",
       "y = \\begin{cases} \n",
       "1 & \\text{if } \\sum_{i=1}^{n} w_i x_i + b > 0 \\\\\n",
       "0 & \\text{otherwise}\n",
       "\\end{cases}\n",
       "$"
      ],
      "text/plain": [
       "<IPython.core.display.Math object>"
      ]
     },
     "metadata": {},
     "output_type": "display_data"
    },
    {
     "data": {
      "text/latex": [
       "$\\displaystyle \\text{where } b \\text{ is the bias term.}$"
      ],
      "text/plain": [
       "<IPython.core.display.Math object>"
      ]
     },
     "metadata": {},
     "output_type": "display_data"
    }
   ],
   "source": [
    "from IPython.display import display, Math\n",
    "\n",
    "# Display the introductory text\n",
    "display(Math(r'\\text{Given input features } ( x_1, x_2, \\ldots, x_n ) \\text{ and corresponding weights } ( w_1, w_2, \\ldots, w_n ), \\text{ the perceptron output } ( y ) \\text{ is calculated as follows:}'))\n",
    "\n",
    "# Display the Perceptron equation\n",
    "display(Math(r'''\n",
    "y = \\begin{cases} \n",
    "1 & \\text{if } \\sum_{i=1}^{n} w_i x_i + b > 0 \\\\\n",
    "0 & \\text{otherwise}\n",
    "\\end{cases}\n",
    "'''))\n",
    "\n",
    "# Display the concluding text\n",
    "display(Math(r'\\text{where } b \\text{ is the bias term.}'))"
   ]
  },
  {
   "cell_type": "code",
   "execution_count": null,
   "metadata": {},
   "outputs": [],
   "source": []
  }
 ],
 "metadata": {
  "kernelspec": {
   "display_name": "base",
   "language": "python",
   "name": "python3"
  },
  "language_info": {
   "codemirror_mode": {
    "name": "ipython",
    "version": 3
   },
   "file_extension": ".py",
   "mimetype": "text/x-python",
   "name": "python",
   "nbconvert_exporter": "python",
   "pygments_lexer": "ipython3",
   "version": "3.11.7"
  }
 },
 "nbformat": 4,
 "nbformat_minor": 2
}
